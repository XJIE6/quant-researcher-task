{
 "cells": [
  {
   "cell_type": "code",
   "execution_count": 1,
   "id": "urban-course",
   "metadata": {},
   "outputs": [],
   "source": [
    "%load_ext autoreload\n",
    "%autoreload 2 \n",
    "import sim\n",
    "import strategy as strat\n",
    "import message\n",
    "import pickle\n",
    "from datetime import datetime\n",
    "from matplotlib import pyplot as plt\n",
    "from pylab import rcParams\n",
    "from sortedcontainers import SortedDict\n",
    "from collections import deque\n",
    "import copy\n",
    "rcParams['figure.figsize'] = 15, 10"
   ]
  },
  {
   "cell_type": "code",
   "execution_count": 2,
   "id": "instant-stable",
   "metadata": {},
   "outputs": [],
   "source": [
    "with open('data.pickle', 'rb') as f:\n",
    "    data = pickle.load(f)\n",
    "len(data)"
   ]
  },
  {
   "cell_type": "code",
   "execution_count": 4,
   "id": "subjective-swiss",
   "metadata": {},
   "outputs": [],
   "source": [
    "EPS = 1e-12\n",
    "INF = 10**9"
   ]
  },
  {
   "cell_type": "code",
   "execution_count": 5,
   "id": "figured-revolution",
   "metadata": {},
   "outputs": [],
   "source": [
    "def chop_asks(mid_price, asks, money):\n",
    "    chopped_asks = []\n",
    "    asks.sort()\n",
    "    for (price, quantity) in asks:\n",
    "        if quantity > 0 + EPS and money > 0 + EPS:\n",
    "            if money >= price * quantity:\n",
    "                chopped_asks.append((price, quantity))\n",
    "                money -= price * quantity\n",
    "            else:\n",
    "                chopped_asks.append((price, money / price))\n",
    "                money = 0\n",
    "    return chopped_asks"
   ]
  },
  {
   "cell_type": "code",
   "execution_count": 8,
   "id": "dense-phrase",
   "metadata": {},
   "outputs": [],
   "source": [
    "def task1(data, money):\n",
    "    asks = []\n",
    "    dt = copy.deepcopy(data)\n",
    "    for update in dt:\n",
    "        i = 0\n",
    "        j = 0\n",
    "        new_asks = []\n",
    "        \n",
    "        #Comment this for hard task\n",
    "        update.order_book.bid_quantity[0] = INF \n",
    "        update.order_book.ask_quantity[0] = INF\n",
    "        #\n",
    "        \n",
    "        while i < len(asks) and j < len(update.order_book.bid_price) and asks[i][0] < update.order_book.bid_price[j]:\n",
    "            \n",
    "            quantity = min(asks[i][1], update.order_book.bid_quantity[j])\n",
    "            new_asks.append((update.order_book.bid_price[j], quantity))\n",
    "            update.order_book.bid_quantity[j] -= quantity\n",
    "            asks[i] = (asks[i][0], asks[i][1] - quantity)\n",
    "            money += (update.order_book.bid_price[j] - asks[i][0]) * quantity\n",
    "            \n",
    "            if asks[i][1] <= 0 + EPS:\n",
    "                i += 1\n",
    "            if update.order_book.bid_quantity[j] <= 0 + EPS:\n",
    "                j += 1\n",
    "                \n",
    "        asks = chop_asks(\n",
    "            (update.order_book.ask_price[0] + update.order_book.bid_price[0]) / 2, \n",
    "            asks + new_asks + list(zip(update.order_book.ask_price, update.order_book.ask_quantity)), \n",
    "            money)\n",
    "        \n",
    "    return money"
   ]
  },
  {
   "cell_type": "code",
   "execution_count": 7,
   "id": "straight-myanmar",
   "metadata": {},
   "outputs": [
    {
     "data": {
      "text/plain": [
       "245257.80612671736"
      ]
     },
     "execution_count": 7,
     "metadata": {},
     "output_type": "execute_result"
    }
   ],
   "source": [
    "maximum_income(data, 100000)"
   ]
  },
  {
   "cell_type": "code",
   "execution_count": 9,
   "id": "raised-ensemble",
   "metadata": {},
   "outputs": [
    {
     "data": {
      "text/plain": [
       "829620.8064028878"
      ]
     },
     "execution_count": 9,
     "metadata": {},
     "output_type": "execute_result"
    }
   ],
   "source": [
    "maximum_income(data, 100000)"
   ]
  },
  {
   "cell_type": "code",
   "execution_count": null,
   "id": "above-falls",
   "metadata": {},
   "outputs": [],
   "source": []
  }
 ],
 "metadata": {
  "kernelspec": {
   "display_name": "Python 3",
   "language": "python",
   "name": "python3"
  },
  "language_info": {
   "codemirror_mode": {
    "name": "ipython",
    "version": 3
   },
   "file_extension": ".py",
   "mimetype": "text/x-python",
   "name": "python",
   "nbconvert_exporter": "python",
   "pygments_lexer": "ipython3",
   "version": "3.6.9"
  }
 },
 "nbformat": 4,
 "nbformat_minor": 5
}
