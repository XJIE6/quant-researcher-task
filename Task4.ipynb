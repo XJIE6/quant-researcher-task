{
 "cells": [
  {
   "cell_type": "code",
   "execution_count": 1,
   "id": "focused-enzyme",
   "metadata": {},
   "outputs": [],
   "source": [
    "%load_ext autoreload\n",
    "%autoreload 2 \n",
    "import sim\n",
    "import strategy as strat\n",
    "import message\n",
    "import pickle\n",
    "from datetime import datetime\n",
    "from matplotlib import pyplot as plt\n",
    "from pylab import rcParams\n",
    "from sortedcontainers import SortedDict\n",
    "from collections import deque\n",
    "import copy\n",
    "rcParams['figure.figsize'] = 15, 10"
   ]
  },
  {
   "cell_type": "code",
   "execution_count": 2,
   "id": "seeing-blast",
   "metadata": {},
   "outputs": [],
   "source": [
    "def show(pnl, times):\n",
    "    times = list(map(datetime.fromtimestamp, times))\n",
    "    plt.plot(times, pnl)\n",
    "    plt.grid(True)\n",
    "    plt.show()"
   ]
  },
  {
   "cell_type": "code",
   "execution_count": 3,
   "id": "married-ranking",
   "metadata": {},
   "outputs": [
    {
     "data": {
      "text/plain": [
       "745530"
      ]
     },
     "execution_count": 3,
     "metadata": {},
     "output_type": "execute_result"
    }
   ],
   "source": [
    "with open('data.pickle', 'rb') as f:\n",
    "    data = pickle.load(f)\n",
    "len(data)"
   ]
  },
  {
   "cell_type": "code",
   "execution_count": 4,
   "id": "enclosed-collins",
   "metadata": {},
   "outputs": [
    {
     "data": {
      "text/plain": [
       "[0.0,\n",
       " 0.10504166544336051,\n",
       " 0.08570807377033493,\n",
       " 0.09348441432134434,\n",
       " 0.1402553049534825,\n",
       " 0.21027329516987023,\n",
       " 0.32502661665530064,\n",
       " 0.42904679652009,\n",
       " 0.6373330764711698,\n",
       " 0.7365604813955605,\n",
       " 0.7255910971694804,\n",
       " 0.781133379830441,\n",
       " 0.9068963993269709,\n",
       " 0.8809717238920278,\n",
       " 0.9484823833147545,\n",
       " 0.5943164480234259,\n",
       " 0.4205752494895945,\n",
       " 0.2877114115179101,\n",
       " 0.21414794962905717,\n",
       " 0.15343280116689503,\n",
       " 0.10495645716199761,\n",
       " 0.06421876464126179,\n",
       " 0.052830824214987755,\n",
       " 0.047462052997196476,\n",
       " 0.03566911185197052,\n",
       " 0.02813690054726162,\n",
       " 0.02345275069547902,\n",
       " 0.02162853616353586,\n",
       " 0.017630327965340614,\n",
       " 0.0137161292556977,\n",
       " 0.012104408317572972,\n",
       " 0.010416300900031018]"
      ]
     },
     "execution_count": 4,
     "metadata": {},
     "output_type": "execute_result"
    }
   ],
   "source": [
    "def average_asks(data):\n",
    "    n = 1000\n",
    "    asks = [0] * n\n",
    "    for update in data:\n",
    "        mid_price = (update.order_book.bid_price[0] + update.order_book.ask_price[0]) / 2\n",
    "        for i in range(len(update.order_book.ask_price)):\n",
    "            j = 0\n",
    "            while (update.order_book.ask_price[i] > mid_price + j):\n",
    "                j += 1\n",
    "            asks[j] += update.order_book.ask_quantity[i]\n",
    "    last = 0\n",
    "    for i in range(n):\n",
    "        asks[i] /= len(data)\n",
    "        if (asks[i] >= 0.01):\n",
    "            last = i\n",
    "    return asks[:(last + 1)]\n",
    "average_asks(data)"
   ]
  },
  {
   "cell_type": "code",
   "execution_count": 5,
   "id": "focused-imaging",
   "metadata": {},
   "outputs": [
    {
     "data": {
      "text/plain": [
       "[0.0,\n",
       " 0.14516979505317423,\n",
       " 0.12639901694901434,\n",
       " 0.16059822530947848,\n",
       " 0.19310342654080903,\n",
       " 0.2756683083202419,\n",
       " 0.3647778599478748,\n",
       " 0.41562101632199966,\n",
       " 0.5586220154352064,\n",
       " 0.6203625509911319,\n",
       " 0.6511203989397056,\n",
       " 0.7203772322759138,\n",
       " 0.8142150572842413,\n",
       " 0.8636223717577158,\n",
       " 1.0417136789428703,\n",
       " 0.6956193262389052,\n",
       " 0.5238042438304603,\n",
       " 0.4123456843520577,\n",
       " 0.3417683053143053,\n",
       " 0.2899694483520576,\n",
       " 0.2046864982334232,\n",
       " 0.115051161153785,\n",
       " 0.07933516984426449,\n",
       " 0.06499226728367136,\n",
       " 0.04272924322830559,\n",
       " 0.0384633454200358,\n",
       " 0.02941665825520132,\n",
       " 0.0251327063391153,\n",
       " 0.020540976462383474,\n",
       " 0.015504846611136191,\n",
       " 0.01098596043619974,\n",
       " 0.01130682544096142]"
      ]
     },
     "execution_count": 5,
     "metadata": {},
     "output_type": "execute_result"
    }
   ],
   "source": [
    "def average_bids(data):\n",
    "    n = 1000\n",
    "    bids = [0] * n\n",
    "    for update in data:\n",
    "        mid_price = (update.order_book.bid_price[0] + update.order_book.ask_price[0]) / 2\n",
    "        for i in range(len(update.order_book.bid_price)):\n",
    "            j = 0\n",
    "            while (update.order_book.bid_price[i] < mid_price + j):\n",
    "                j -= 1\n",
    "            bids[-j] += update.order_book.bid_quantity[i]\n",
    "    last = 0\n",
    "    for i in range(n):\n",
    "        bids[i] /= len(data)\n",
    "        if (bids[i] >= 0.01):\n",
    "            last = i\n",
    "    return bids[:(last + 1)]\n",
    "\n",
    "average_bids(data)"
   ]
  },
  {
   "cell_type": "code",
   "execution_count": 6,
   "id": "demonstrated-truth",
   "metadata": {},
   "outputs": [],
   "source": [
    "EPS = 1e-12"
   ]
  },
  {
   "cell_type": "code",
   "execution_count": 10,
   "id": "analyzed-death",
   "metadata": {},
   "outputs": [],
   "source": [
    "class Task4(strat.Strategy):\n",
    "    \n",
    "    def __init__(self, tax):\n",
    "        self.usd = []\n",
    "        self.btc = []\n",
    "        self.tax = tax    \n",
    "        self.asks = [0.0,\n",
    "         0.10504166544336051,\n",
    "         0.08570807377033493,\n",
    "         0.09348441432134434,\n",
    "         0.1402553049534825,\n",
    "         0.21027329516987023,\n",
    "         0.32502661665530064,\n",
    "         0.42904679652009,\n",
    "         0.6373330764711698,\n",
    "         0.7365604813955605,\n",
    "         0.7255910971694804,\n",
    "         0.781133379830441,\n",
    "         0.9068963993269709,\n",
    "         0.8809717238920278,\n",
    "         0.9484823833147545,\n",
    "         0.5943164480234259,\n",
    "         0.4205752494895945,\n",
    "         0.2877114115179101,\n",
    "         0.21414794962905717,\n",
    "         0.15343280116689503,\n",
    "         0.10495645716199761,\n",
    "         0.06421876464126179,\n",
    "         0.052830824214987755,\n",
    "         0.047462052997196476,\n",
    "         0.03566911185197052,\n",
    "         0.02813690054726162,\n",
    "         0.02345275069547902,\n",
    "         0.02162853616353586,\n",
    "         0.017630327965340614,\n",
    "         0.0137161292556977,\n",
    "         0.012104408317572972,\n",
    "         0.010416300900031018]\n",
    "        self.bids = [0.0,\n",
    "         0.14516979505317423,\n",
    "         0.12639901694901434,\n",
    "         0.16059822530947848,\n",
    "         0.19310342654080903,\n",
    "         0.2756683083202419,\n",
    "         0.3647778599478748,\n",
    "         0.41562101632199966,\n",
    "         0.5586220154352064,\n",
    "         0.6203625509911319,\n",
    "         0.6511203989397056,\n",
    "         0.7203772322759138,\n",
    "         0.8142150572842413,\n",
    "         0.8636223717577158,\n",
    "         1.0417136789428703,\n",
    "         0.6956193262389052,\n",
    "         0.5238042438304603,\n",
    "         0.4123456843520577,\n",
    "         0.3417683053143053,\n",
    "         0.2899694483520576,\n",
    "         0.2046864982334232,\n",
    "         0.115051161153785,\n",
    "         0.07933516984426449,\n",
    "         0.06499226728367136,\n",
    "         0.04272924322830559,\n",
    "         0.0384633454200358,\n",
    "         0.02941665825520132,\n",
    "         0.0251327063391153,\n",
    "         0.020540976462383474,\n",
    "         0.015504846611136191,\n",
    "         0.01098596043619974,\n",
    "         0.01130682544096142]\n",
    "\n",
    "    def on_update(self, update: message.Update, balance: message.Balance) -> float:\n",
    "        self.usd.append(balance.usd)\n",
    "        self.btc.append(balance.btc)\n",
    "        \n",
    "        mid_price = (update.order_book.bid_price[0] + update.order_book.ask_price[0]) / 2\n",
    "        \n",
    "        if mid_price < update.future_mid_price:\n",
    "            bids = copy.copy(self.bids)\n",
    "            money = 0\n",
    "            i = 0\n",
    "            j = 0\n",
    "            while (j < len(bids) and i < len(update.order_book.ask_price) and update.order_book.ask_price[i] * self.tax < update.future_mid_price - j) :\n",
    "                \n",
    "                quantity = min(update.order_book.ask_quantity[i], bids[j])\n",
    "                money += update.order_book.ask_price[i] * quantity\n",
    "                bids[j] -= quantity\n",
    "                update.order_book.ask_quantity[i] -= quantity\n",
    "\n",
    "                if update.order_book.ask_quantity[i] <= 0 + EPS:\n",
    "                    i += 1\n",
    "                if bids[j] <= 0 + EPS:\n",
    "                    j += 1\n",
    "\n",
    "            return money\n",
    "        else:\n",
    "            asks = copy.copy(self.asks)\n",
    "            btc = 0\n",
    "            i = 0\n",
    "            j = 0\n",
    "            while (j < len(asks) and i < len(update.order_book.bid_price) and update.order_book.bid_price[i] > (update.future_mid_price + j) * self.tax) :\n",
    "                \n",
    "                quantity = min(update.order_book.bid_quantity[i], asks[j])\n",
    "                btc += quantity\n",
    "                asks[j] -= quantity\n",
    "                update.order_book.bid_quantity[i] -= quantity\n",
    "\n",
    "                if update.order_book.bid_quantity[i] <= 0 + EPS:\n",
    "                    i += 1\n",
    "                if asks[j] <= 0 + EPS:\n",
    "                    j += 1\n",
    "                \n",
    "            return -btc\n",
    "        return 0"
   ]
  },
  {
   "cell_type": "code",
   "execution_count": 11,
   "id": "distinct-investigation",
   "metadata": {},
   "outputs": [],
   "source": [
    "start_balance = 100000"
   ]
  },
  {
   "cell_type": "code",
   "execution_count": 12,
   "id": "bottom-idaho",
   "metadata": {},
   "outputs": [
    {
     "data": {
      "application/vnd.jupyter.widget-view+json": {
       "model_id": "0b5630c8907243fca92e1a3e50194581",
       "version_major": 2,
       "version_minor": 0
      },
      "text/plain": [
       "  0%|          | 0/745530 [00:00<?, ?it/s]"
      ]
     },
     "metadata": {},
     "output_type": "display_data"
    },
    {
     "data": {
      "image/png": "[encoded data removed]",
      "text/plain": [
       "<Figure size 1080x720 with 1 Axes>"
      ]
     },
     "metadata": {
      "needs_background": "light"
     },
     "output_type": "display_data"
    }
   ],
   "source": [
    "solution_easy = Task4(1.00005)\n",
    "balance_history, pnl, times, mid_price = sim.simulate(\n",
    "    strategy=solution_easy,\n",
    "    data=data,\n",
    "    start_balance=start_balance,\n",
    "    version='task4easy',\n",
    ")\n",
    "show(pnl, times)"
   ]
  },
  {
   "cell_type": "code",
   "execution_count": 13,
   "id": "pharmaceutical-turkish",
   "metadata": {},
   "outputs": [
    {
     "data": {
      "application/vnd.jupyter.widget-view+json": {
       "model_id": "9fc97d6bf6464a2099314cba3dfa53f0",
       "version_major": 2,
       "version_minor": 0
      },
      "text/plain": [
       "  0%|          | 0/745530 [00:00<?, ?it/s]"
      ]
     },
     "metadata": {},
     "output_type": "display_data"
    },
    {
     "data": {
      "image/png": "[encoded data removed]",
      "text/plain": [
       "<Figure size 1080x720 with 1 Axes>"
      ]
     },
     "metadata": {
      "needs_background": "light"
     },
     "output_type": "display_data"
    }
   ],
   "source": [
    "solution_hard = Task4(1.00025)\n",
    "balance_history, pnl, times, mid_price = sim.simulate(\n",
    "    strategy=solution_hard,\n",
    "    data=data,\n",
    "    start_balance=start_balance,\n",
    "    version='task4hard',\n",
    ")\n",
    "show(pnl, times)"
   ]
  },
  {
   "cell_type": "code",
   "execution_count": null,
   "id": "touched-netherlands",
   "metadata": {},
   "outputs": [],
   "source": []
  }
 ],
 "metadata": {
  "kernelspec": {
   "display_name": "Python 3",
   "language": "python",
   "name": "python3"
  },
  "language_info": {
   "codemirror_mode": {
    "name": "ipython",
    "version": 3
   },
   "file_extension": ".py",
   "mimetype": "text/x-python",
   "name": "python",
   "nbconvert_exporter": "python",
   "pygments_lexer": "ipython3",
   "version": "3.6.9"
  }
 },
 "nbformat": 4,
 "nbformat_minor": 5
}
