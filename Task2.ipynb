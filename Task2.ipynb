{
 "cells": [
  {
   "cell_type": "code",
   "execution_count": 29,
   "id": "resident-karen",
   "metadata": {},
   "outputs": [
    {
     "name": "stdout",
     "output_type": "stream",
     "text": [
      "The autoreload extension is already loaded. To reload it, use:\n",
      "  %reload_ext autoreload\n"
     ]
    }
   ],
   "source": [
    "%load_ext autoreload\n",
    "%autoreload 2 \n",
    "import sim\n",
    "import strategy as strat\n",
    "import message\n",
    "import pickle\n",
    "from datetime import datetime\n",
    "from matplotlib import pyplot as plt\n",
    "from pylab import rcParams\n",
    "from sortedcontainers import SortedDict\n",
    "from collections import deque\n",
    "import copy\n",
    "rcParams['figure.figsize'] = 15, 10"
   ]
  },
  {
   "cell_type": "code",
   "execution_count": 30,
   "id": "activated-yemen",
   "metadata": {},
   "outputs": [],
   "source": [
    "def show(pnl, times):\n",
    "    times = list(map(datetime.fromtimestamp, times))\n",
    "    plt.plot(times, pnl)\n",
    "    plt.grid(True)\n",
    "    plt.show()"
   ]
  },
  {
   "cell_type": "code",
   "execution_count": 31,
   "id": "thermal-stephen",
   "metadata": {},
   "outputs": [
    {
     "data": {
      "text/plain": [
       "745530"
      ]
     },
     "execution_count": 31,
     "metadata": {},
     "output_type": "execute_result"
    }
   ],
   "source": [
    "with open('data.pickle', 'rb') as f:\n",
    "    data = pickle.load(f)\n",
    "len(data)"
   ]
  },
  {
   "cell_type": "code",
   "execution_count": 32,
   "id": "brilliant-affair",
   "metadata": {},
   "outputs": [],
   "source": [
    "class Task2(strat.Strategy):    \n",
    "    def __init__(self):\n",
    "        #self.usd = []\n",
    "        #self.btc = []\n",
    "        self.predict = deque()\n",
    "    \n",
    "    def on_update(self, update: message.Update, balance: message.Balance) -> float:\n",
    "        self.predict.append((update.ts + 2, update.future_mid_price))\n",
    "        \n",
    "        while len(self.predict) > 0 and update.ts > self.predict[0][0]:\n",
    "            self.predict.popleft()\n",
    "        \n",
    "        #self.usd.append(balance.usd)\n",
    "        #self.btc.append(balance.btc)\n",
    "        \n",
    "        mid_price = (update.order_book.bid_price[0] + update.order_book.ask_price[0]) / 2\n",
    "        middle_mid_price = self.predict[len(self.predict) // 2][1]\n",
    "        \n",
    "        if update.order_book.ask_price[0] - update.order_book.bid_price[0] > 20:\n",
    "            return 0\n",
    "        \n",
    "        if update.order_book.ask_price[0] < update.future_mid_price - 2 and update.order_book.ask_price[0] < middle_mid_price - 1:\n",
    "            return balance.usd\n",
    "        if update.order_book.bid_price[0] > update.future_mid_price + 2 and update.order_book.bid_price[0] > middle_mid_price + 1:\n",
    "            return -balance.btc\n",
    "        if update.order_book.ask_price[0] < middle_mid_price - 4:\n",
    "            return balance.usd\n",
    "        if update.order_book.bid_price[0] > middle_mid_price + 4:\n",
    "            return -balance.btc\n",
    "        return 0"
   ]
  },
  {
   "cell_type": "code",
   "execution_count": 33,
   "id": "indie-marriage",
   "metadata": {},
   "outputs": [],
   "source": [
    "start_balance = 100000"
   ]
  },
  {
   "cell_type": "code",
   "execution_count": 34,
   "id": "corporate-skating",
   "metadata": {},
   "outputs": [
    {
     "data": {
      "application/vnd.jupyter.widget-view+json": {
       "model_id": "1b5fb897a6ee402ab1959a157456a615",
       "version_major": 2,
       "version_minor": 0
      },
      "text/plain": [
       "  0%|          | 0/745530 [00:00<?, ?it/s]"
      ]
     },
     "metadata": {},
     "output_type": "display_data"
    }
   ],
   "source": [
    "sol = Task2()\n",
    "balance_history, pnl, times, mid_price = sim.simulate(\n",
    "    strategy=sol,\n",
    "    data=data,\n",
    "    start_balance=start_balance,\n",
    "    version='task2',\n",
    ")"
   ]
  },
  {
   "cell_type": "code",
   "execution_count": 35,
   "id": "eight-beach",
   "metadata": {},
   "outputs": [
    {
     "data": {
      "image/png": "[encoded data removed]",
      "text/plain": [
       "<Figure size 1080x720 with 1 Axes>"
      ]
     },
     "metadata": {
      "needs_background": "light"
     },
     "output_type": "display_data"
    }
   ],
   "source": [
    "show(pnl, times)"
   ]
  },
  {
   "cell_type": "code",
   "execution_count": null,
   "id": "interpreted-reform",
   "metadata": {},
   "outputs": [],
   "source": []
  }
 ],
 "metadata": {
  "kernelspec": {
   "display_name": "Python 3",
   "language": "python",
   "name": "python3"
  },
  "language_info": {
   "codemirror_mode": {
    "name": "ipython",
    "version": 3
   },
   "file_extension": ".py",
   "mimetype": "text/x-python",
   "name": "python",
   "nbconvert_exporter": "python",
   "pygments_lexer": "ipython3",
   "version": "3.6.9"
  }
 },
 "nbformat": 4,
 "nbformat_minor": 5
}
